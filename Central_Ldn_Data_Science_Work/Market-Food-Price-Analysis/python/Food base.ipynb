{
 "cells": [
  {
   "cell_type": "code",
   "execution_count": 9,
   "metadata": {
    "collapsed": false
   },
   "outputs": [],
   "source": [
    "import datetime\n",
    "import numpy as np\n",
    "import matplotlib.pyplot as plt\n",
    "import matplotlib.patches as mpatches\n",
    "import urllib, json\n",
    "import pandas as pd"
   ]
  },
  {
   "cell_type": "code",
   "execution_count": 2,
   "metadata": {
    "collapsed": false
   },
   "outputs": [],
   "source": [
    "with open('recipelist_utf8.JSON') as data_file:    \n",
    "    data = json.load(data_file, encoding='latin-1')"
   ]
  },
  {
   "cell_type": "code",
   "execution_count": 3,
   "metadata": {
    "collapsed": false
   },
   "outputs": [
    {
     "data": {
      "text/plain": [
       "{u'author': [u'Mary Berry'],\n",
       " u'cookTime': [u'10 to 30 mins'],\n",
       " u'date': [u'2014-04-02 01:50:03'],\n",
       " u'desription': [u'\\n    This is my standby pasta supper as it is so delicious, so quick and everyone loves it. Great for everyday or for casual supper parties too.\\n'],\n",
       " u'ingred.links': [u'pasta',\n",
       "  u'ham',\n",
       "  u'chestnut mushrooms',\n",
       "  u'cr\\xc3\\xa8me fra\\xc3\\xaeche',\n",
       "  u'Parmesan',\n",
       "  u'parsley',\n",
       "  u'pepper',\n",
       "  u'salad',\n",
       "  u'bread'],\n",
       " u'ingredients': [u' 350g/12oz penne pasta ',\n",
       "  u' 2 x 80g/3oz packs Parma ham, snipped into small pieces',\n",
       "  u' 250g/9oz small brown chestnut mushrooms, halved or quartered',\n",
       "  u' 200g/7oz full-fat cr\\xc3\\xa8me fra\\xc3\\xaeche',\n",
       "  u' 100g/3\\xc2\\xbdoz Parmesan, grated ',\n",
       "  u' 2 tbsp chopped parsley ',\n",
       "  u' salt and pepper, to taste',\n",
       "  u' green salad',\n",
       "  u' crunchy bread'],\n",
       " u'name': [u'15 minute pasta'],\n",
       " u'prepTime': [u'less than 30 mins'],\n",
       " u'recipeInstructions': [u'Cook the pasta in a pan of boiling salted water according to the packet instructions. Drain and set aside',\n",
       "  u'Heat a frying pan until hot. Add the pieces of Parma ham and fry until crisp, remove half of the ham onto a plate and set aside. Add the mushrooms to the pan and fry for two minutes. Add the cr\\xc3\\xa8me fra\\xc3\\xaeche and bring up to the boil. Add the pasta, Parmesan and parsley and toss together over the heat. Season well with salt and pepper.',\n",
       "  u'Serve with a green salad and crunchy bread.'],\n",
       " u'recipeYield': [u'Serves 6']}"
      ]
     },
     "execution_count": 3,
     "metadata": {},
     "output_type": "execute_result"
    }
   ],
   "source": [
    "data[1]"
   ]
  },
  {
   "cell_type": "code",
   "execution_count": 10,
   "metadata": {
    "collapsed": false
   },
   "outputs": [],
   "source": [
    "food_producer_prices = pd.read_csv('../data/food.producer.prices.csv')"
   ]
  },
  {
   "cell_type": "code",
   "execution_count": 11,
   "metadata": {
    "collapsed": false
   },
   "outputs": [
    {
     "data": {
      "text/html": [
       "<div>\n",
       "<table border=\"1\" class=\"dataframe\">\n",
       "  <thead>\n",
       "    <tr style=\"text-align: right;\">\n",
       "      <th></th>\n",
       "      <th>Domain Code</th>\n",
       "      <th>Domain</th>\n",
       "      <th>Country Code</th>\n",
       "      <th>Country</th>\n",
       "      <th>Element Code</th>\n",
       "      <th>Element</th>\n",
       "      <th>Item Code</th>\n",
       "      <th>Item</th>\n",
       "      <th>Year Code</th>\n",
       "      <th>Year</th>\n",
       "      <th>Unit</th>\n",
       "      <th>Value</th>\n",
       "      <th>Flag</th>\n",
       "      <th>Flag Description</th>\n",
       "    </tr>\n",
       "  </thead>\n",
       "  <tbody>\n",
       "    <tr>\n",
       "      <th>0</th>\n",
       "      <td>PP</td>\n",
       "      <td>Producer Prices - Annual</td>\n",
       "      <td>7</td>\n",
       "      <td>Angola</td>\n",
       "      <td>5530</td>\n",
       "      <td>Producer Price (LCU/tonne)</td>\n",
       "      <td>572</td>\n",
       "      <td>Avocados</td>\n",
       "      <td>2010</td>\n",
       "      <td>2010</td>\n",
       "      <td>LCU</td>\n",
       "      <td>68500.0</td>\n",
       "      <td>NaN</td>\n",
       "      <td>Official data</td>\n",
       "    </tr>\n",
       "    <tr>\n",
       "      <th>1</th>\n",
       "      <td>PP</td>\n",
       "      <td>Producer Prices - Annual</td>\n",
       "      <td>7</td>\n",
       "      <td>Angola</td>\n",
       "      <td>5530</td>\n",
       "      <td>Producer Price (LCU/tonne)</td>\n",
       "      <td>572</td>\n",
       "      <td>Avocados</td>\n",
       "      <td>2011</td>\n",
       "      <td>2011</td>\n",
       "      <td>LCU</td>\n",
       "      <td>66900.0</td>\n",
       "      <td>NaN</td>\n",
       "      <td>Official data</td>\n",
       "    </tr>\n",
       "    <tr>\n",
       "      <th>2</th>\n",
       "      <td>PP</td>\n",
       "      <td>Producer Prices - Annual</td>\n",
       "      <td>7</td>\n",
       "      <td>Angola</td>\n",
       "      <td>5530</td>\n",
       "      <td>Producer Price (LCU/tonne)</td>\n",
       "      <td>572</td>\n",
       "      <td>Avocados</td>\n",
       "      <td>2012</td>\n",
       "      <td>2012</td>\n",
       "      <td>LCU</td>\n",
       "      <td>49000.0</td>\n",
       "      <td>NaN</td>\n",
       "      <td>Official data</td>\n",
       "    </tr>\n",
       "    <tr>\n",
       "      <th>3</th>\n",
       "      <td>PP</td>\n",
       "      <td>Producer Prices - Annual</td>\n",
       "      <td>7</td>\n",
       "      <td>Angola</td>\n",
       "      <td>5530</td>\n",
       "      <td>Producer Price (LCU/tonne)</td>\n",
       "      <td>572</td>\n",
       "      <td>Avocados</td>\n",
       "      <td>2013</td>\n",
       "      <td>2013</td>\n",
       "      <td>LCU</td>\n",
       "      <td>68290.0</td>\n",
       "      <td>NaN</td>\n",
       "      <td>Official data</td>\n",
       "    </tr>\n",
       "    <tr>\n",
       "      <th>4</th>\n",
       "      <td>PP</td>\n",
       "      <td>Producer Prices - Annual</td>\n",
       "      <td>7</td>\n",
       "      <td>Angola</td>\n",
       "      <td>5530</td>\n",
       "      <td>Producer Price (LCU/tonne)</td>\n",
       "      <td>572</td>\n",
       "      <td>Avocados</td>\n",
       "      <td>2014</td>\n",
       "      <td>2014</td>\n",
       "      <td>LCU</td>\n",
       "      <td>68210.0</td>\n",
       "      <td>NaN</td>\n",
       "      <td>Official data</td>\n",
       "    </tr>\n",
       "  </tbody>\n",
       "</table>\n",
       "</div>"
      ],
      "text/plain": [
       "  Domain Code                    Domain  Country Code Country  Element Code  \\\n",
       "0          PP  Producer Prices - Annual             7  Angola          5530   \n",
       "1          PP  Producer Prices - Annual             7  Angola          5530   \n",
       "2          PP  Producer Prices - Annual             7  Angola          5530   \n",
       "3          PP  Producer Prices - Annual             7  Angola          5530   \n",
       "4          PP  Producer Prices - Annual             7  Angola          5530   \n",
       "\n",
       "                      Element  Item Code      Item  Year Code  Year Unit  \\\n",
       "0  Producer Price (LCU/tonne)        572  Avocados       2010  2010  LCU   \n",
       "1  Producer Price (LCU/tonne)        572  Avocados       2011  2011  LCU   \n",
       "2  Producer Price (LCU/tonne)        572  Avocados       2012  2012  LCU   \n",
       "3  Producer Price (LCU/tonne)        572  Avocados       2013  2013  LCU   \n",
       "4  Producer Price (LCU/tonne)        572  Avocados       2014  2014  LCU   \n",
       "\n",
       "     Value Flag Flag Description  \n",
       "0  68500.0  NaN    Official data  \n",
       "1  66900.0  NaN    Official data  \n",
       "2  49000.0  NaN    Official data  \n",
       "3  68290.0  NaN    Official data  \n",
       "4  68210.0  NaN    Official data  "
      ]
     },
     "execution_count": 11,
     "metadata": {},
     "output_type": "execute_result"
    }
   ],
   "source": [
    "food_producer_prices.head()"
   ]
  },
  {
   "cell_type": "code",
   "execution_count": 13,
   "metadata": {
    "collapsed": false
   },
   "outputs": [
    {
     "data": {
      "text/html": [
       "<div>\n",
       "<table border=\"1\" class=\"dataframe\">\n",
       "  <thead>\n",
       "    <tr style=\"text-align: right;\">\n",
       "      <th></th>\n",
       "      <th>Country Code</th>\n",
       "      <th>Element Code</th>\n",
       "      <th>Item Code</th>\n",
       "      <th>Year Code</th>\n",
       "      <th>Year</th>\n",
       "      <th>Value</th>\n",
       "    </tr>\n",
       "  </thead>\n",
       "  <tbody>\n",
       "    <tr>\n",
       "      <th>count</th>\n",
       "      <td>7785.000000</td>\n",
       "      <td>7785.000000</td>\n",
       "      <td>7785.000000</td>\n",
       "      <td>7785.000000</td>\n",
       "      <td>7785.000000</td>\n",
       "      <td>7.785000e+03</td>\n",
       "    </tr>\n",
       "    <tr>\n",
       "      <th>mean</th>\n",
       "      <td>127.488247</td>\n",
       "      <td>5530.992293</td>\n",
       "      <td>462.398715</td>\n",
       "      <td>2002.645472</td>\n",
       "      <td>2002.645472</td>\n",
       "      <td>5.479000e+05</td>\n",
       "    </tr>\n",
       "    <tr>\n",
       "      <th>std</th>\n",
       "      <td>75.502727</td>\n",
       "      <td>0.814938</td>\n",
       "      <td>192.608508</td>\n",
       "      <td>6.648199</td>\n",
       "      <td>6.648199</td>\n",
       "      <td>9.498544e+06</td>\n",
       "    </tr>\n",
       "    <tr>\n",
       "      <th>min</th>\n",
       "      <td>7.000000</td>\n",
       "      <td>5530.000000</td>\n",
       "      <td>92.000000</td>\n",
       "      <td>1991.000000</td>\n",
       "      <td>1991.000000</td>\n",
       "      <td>5.642473e-02</td>\n",
       "    </tr>\n",
       "    <tr>\n",
       "      <th>25%</th>\n",
       "      <td>57.000000</td>\n",
       "      <td>5530.000000</td>\n",
       "      <td>270.000000</td>\n",
       "      <td>1997.000000</td>\n",
       "      <td>1997.000000</td>\n",
       "      <td>4.955844e+02</td>\n",
       "    </tr>\n",
       "    <tr>\n",
       "      <th>50%</th>\n",
       "      <td>126.000000</td>\n",
       "      <td>5531.000000</td>\n",
       "      <td>572.000000</td>\n",
       "      <td>2003.000000</td>\n",
       "      <td>2003.000000</td>\n",
       "      <td>1.846500e+03</td>\n",
       "    </tr>\n",
       "    <tr>\n",
       "      <th>75%</th>\n",
       "      <td>184.000000</td>\n",
       "      <td>5532.000000</td>\n",
       "      <td>656.000000</td>\n",
       "      <td>2008.000000</td>\n",
       "      <td>2008.000000</td>\n",
       "      <td>2.418000e+04</td>\n",
       "    </tr>\n",
       "    <tr>\n",
       "      <th>max</th>\n",
       "      <td>351.000000</td>\n",
       "      <td>5532.000000</td>\n",
       "      <td>656.000000</td>\n",
       "      <td>2014.000000</td>\n",
       "      <td>2014.000000</td>\n",
       "      <td>4.710000e+08</td>\n",
       "    </tr>\n",
       "  </tbody>\n",
       "</table>\n",
       "</div>"
      ],
      "text/plain": [
       "       Country Code  Element Code    Item Code    Year Code         Year  \\\n",
       "count   7785.000000   7785.000000  7785.000000  7785.000000  7785.000000   \n",
       "mean     127.488247   5530.992293   462.398715  2002.645472  2002.645472   \n",
       "std       75.502727      0.814938   192.608508     6.648199     6.648199   \n",
       "min        7.000000   5530.000000    92.000000  1991.000000  1991.000000   \n",
       "25%       57.000000   5530.000000   270.000000  1997.000000  1997.000000   \n",
       "50%      126.000000   5531.000000   572.000000  2003.000000  2003.000000   \n",
       "75%      184.000000   5532.000000   656.000000  2008.000000  2008.000000   \n",
       "max      351.000000   5532.000000   656.000000  2014.000000  2014.000000   \n",
       "\n",
       "              Value  \n",
       "count  7.785000e+03  \n",
       "mean   5.479000e+05  \n",
       "std    9.498544e+06  \n",
       "min    5.642473e-02  \n",
       "25%    4.955844e+02  \n",
       "50%    1.846500e+03  \n",
       "75%    2.418000e+04  \n",
       "max    4.710000e+08  "
      ]
     },
     "execution_count": 13,
     "metadata": {},
     "output_type": "execute_result"
    }
   ],
   "source": [
    "food_producer_prices.describe()"
   ]
  },
  {
   "cell_type": "code",
   "execution_count": 15,
   "metadata": {
    "collapsed": false
   },
   "outputs": [
    {
     "data": {
      "text/plain": [
       "(7785, 14)"
      ]
     },
     "execution_count": 15,
     "metadata": {},
     "output_type": "execute_result"
    }
   ],
   "source": [
    "# rows and columns\n",
    "\n",
    "food_producer_prices.shape"
   ]
  },
  {
   "cell_type": "code",
   "execution_count": 16,
   "metadata": {
    "collapsed": false
   },
   "outputs": [
    {
     "data": {
      "text/plain": [
       "RangeIndex(start=0, stop=7785, step=1)"
      ]
     },
     "execution_count": 16,
     "metadata": {},
     "output_type": "execute_result"
    }
   ],
   "source": [
    "food_producer_prices.index"
   ]
  },
  {
   "cell_type": "code",
   "execution_count": null,
   "metadata": {
    "collapsed": true
   },
   "outputs": [],
   "source": []
  }
 ],
 "metadata": {
  "anaconda-cloud": {},
  "kernelspec": {
   "display_name": "Python [conda root]",
   "language": "python",
   "name": "conda-root-py"
  },
  "language_info": {
   "codemirror_mode": {
    "name": "ipython",
    "version": 2
   },
   "file_extension": ".py",
   "mimetype": "text/x-python",
   "name": "python",
   "nbconvert_exporter": "python",
   "pygments_lexer": "ipython2",
   "version": "2.7.12"
  }
 },
 "nbformat": 4,
 "nbformat_minor": 1
}
