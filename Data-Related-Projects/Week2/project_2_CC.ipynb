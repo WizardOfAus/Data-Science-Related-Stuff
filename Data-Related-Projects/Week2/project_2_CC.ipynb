{
 "cells": [
  {
   "cell_type": "markdown",
   "metadata": {
    "focus": true,
    "id": "263eb813-da45-48cf-9a8f-9da76c18e470"
   },
   "source": [
    "# Project 2\n",
    "## Step 1: Exploring your data.\n",
    "\n",
    "##### Load your data in using Pandas and start to explore. Save all of your early exploration code here and include in your final submission."
   ]
  },
  {
   "cell_type": "code",
   "execution_count": 1,
   "metadata": {
    "collapsed": false,
    "focus": false,
    "id": "b733d2fe-6d33-41dd-a3fc-5dfe9d71d91f"
   },
   "outputs": [],
   "source": [
    "import pandas as pd\n",
    "import numpy as np\n",
    "from __future__ import division\n",
    "import matplotlib.pyplot as plt\n",
    "import scipy.stats as stats\n",
    "import seaborn as sns\n",
    "%matplotlib inline"
   ]
  },
  {
   "cell_type": "code",
   "execution_count": 2,
   "metadata": {
    "collapsed": false
   },
   "outputs": [
    {
     "data": {
      "text/plain": [
       "(317, 83)"
      ]
     },
     "execution_count": 2,
     "metadata": {},
     "output_type": "execute_result"
    }
   ],
   "source": [
    "Data=pd.read_csv(\"../assets/billboard.csv\")\n",
    "Data.shape"
   ]
  },
  {
   "cell_type": "markdown",
   "metadata": {
    "focus": false,
    "id": "94514384-cf79-4e7a-a09b-02cddc91e77c"
   },
   "source": [
    "##### Write a brief description of your data, and any interesting observations you've made thus far. "
   ]
  },
  {
   "cell_type": "markdown",
   "metadata": {
    "collapsed": false,
    "focus": false,
    "id": "33a9e3f0-a29d-4b02-90bd-528bdb44fb78"
   },
   "source": [
    "The data has  317 rows and 83 columns a lot of which has little data, however as they have been filled in with NaNs, the can still be used effectivly. The column 'Year' does not contribute to anything. There is a mix of datetime, integer/float and string data types."
   ]
  },
  {
   "cell_type": "markdown",
   "metadata": {
    "focus": false,
    "id": "888b6223-3bb4-4d91-b753-4867a3a1b281"
   },
   "source": [
    "## Step 2: Clean your data."
   ]
  },
  {
   "cell_type": "markdown",
   "metadata": {
    "focus": false,
    "id": "8a273328-6d9f-4dfc-88f8-a0c18e4d7f90"
   },
   "source": [
    "##### Do some rudimentary cleaning. Rename any columns that are poorly named, shorten any strings that may be too long, check for missing values (and replace them if it makes sense to do so). Explain your rationale for the way you choose to \"impute\" the missing data."
   ]
  },
  {
   "cell_type": "code",
   "execution_count": 3,
   "metadata": {
    "collapsed": false
   },
   "outputs": [
    {
     "data": {
      "text/html": [
       "<div>\n",
       "<table border=\"1\" class=\"dataframe\">\n",
       "  <thead>\n",
       "    <tr style=\"text-align: right;\">\n",
       "      <th></th>\n",
       "      <th>year</th>\n",
       "      <th>artist</th>\n",
       "      <th>track</th>\n",
       "      <th>time</th>\n",
       "      <th>genre</th>\n",
       "      <th>date_entered</th>\n",
       "      <th>date_peaked</th>\n",
       "      <th>x1st.week</th>\n",
       "      <th>x2nd.week</th>\n",
       "      <th>x3rd.week</th>\n",
       "      <th>...</th>\n",
       "      <th>x67th.week</th>\n",
       "      <th>x68th.week</th>\n",
       "      <th>x69th.week</th>\n",
       "      <th>x70th.week</th>\n",
       "      <th>x71st.week</th>\n",
       "      <th>x72nd.week</th>\n",
       "      <th>x73rd.week</th>\n",
       "      <th>x74th.week</th>\n",
       "      <th>x75th.week</th>\n",
       "      <th>x76th.week</th>\n",
       "    </tr>\n",
       "  </thead>\n",
       "  <tbody>\n",
       "    <tr>\n",
       "      <th>0</th>\n",
       "      <td>2000</td>\n",
       "      <td>Destiny's Child</td>\n",
       "      <td>Independent Women Part I</td>\n",
       "      <td>3:38</td>\n",
       "      <td>Rock</td>\n",
       "      <td>2000-09-23</td>\n",
       "      <td>2000-11-18</td>\n",
       "      <td>78</td>\n",
       "      <td>63.0</td>\n",
       "      <td>49.0</td>\n",
       "      <td>...</td>\n",
       "      <td>NaN</td>\n",
       "      <td>NaN</td>\n",
       "      <td>NaN</td>\n",
       "      <td>NaN</td>\n",
       "      <td>NaN</td>\n",
       "      <td>NaN</td>\n",
       "      <td>NaN</td>\n",
       "      <td>NaN</td>\n",
       "      <td>NaN</td>\n",
       "      <td>NaN</td>\n",
       "    </tr>\n",
       "    <tr>\n",
       "      <th>1</th>\n",
       "      <td>2000</td>\n",
       "      <td>Santana</td>\n",
       "      <td>Maria, Maria</td>\n",
       "      <td>4:18</td>\n",
       "      <td>Rock</td>\n",
       "      <td>2000-02-12</td>\n",
       "      <td>2000-04-08</td>\n",
       "      <td>15</td>\n",
       "      <td>8.0</td>\n",
       "      <td>6.0</td>\n",
       "      <td>...</td>\n",
       "      <td>NaN</td>\n",
       "      <td>NaN</td>\n",
       "      <td>NaN</td>\n",
       "      <td>NaN</td>\n",
       "      <td>NaN</td>\n",
       "      <td>NaN</td>\n",
       "      <td>NaN</td>\n",
       "      <td>NaN</td>\n",
       "      <td>NaN</td>\n",
       "      <td>NaN</td>\n",
       "    </tr>\n",
       "  </tbody>\n",
       "</table>\n",
       "<p>2 rows × 83 columns</p>\n",
       "</div>"
      ],
      "text/plain": [
       "   year           artist                     track  time genre date_entered  \\\n",
       "0  2000  Destiny's Child  Independent Women Part I  3:38  Rock   2000-09-23   \n",
       "1  2000          Santana              Maria, Maria  4:18  Rock   2000-02-12   \n",
       "\n",
       "  date_peaked  x1st.week  x2nd.week  x3rd.week     ...      x67th.week  \\\n",
       "0  2000-11-18         78       63.0       49.0     ...             NaN   \n",
       "1  2000-04-08         15        8.0        6.0     ...             NaN   \n",
       "\n",
       "   x68th.week  x69th.week  x70th.week  x71st.week  x72nd.week  x73rd.week  \\\n",
       "0         NaN         NaN         NaN         NaN         NaN         NaN   \n",
       "1         NaN         NaN         NaN         NaN         NaN         NaN   \n",
       "\n",
       "   x74th.week  x75th.week  x76th.week  \n",
       "0         NaN         NaN         NaN  \n",
       "1         NaN         NaN         NaN  \n",
       "\n",
       "[2 rows x 83 columns]"
      ]
     },
     "execution_count": 3,
     "metadata": {},
     "output_type": "execute_result"
    }
   ],
   "source": [
    "#Initially Renaming a number of columns for clarity\n",
    "Data = Data.rename(columns={'artist.inverted': 'artist', 'date.entered': 'date_entered','date.peaked':'date_peaked'})\n",
    "Data.head(2)"
   ]
  },
  {
   "cell_type": "code",
   "execution_count": 4,
   "metadata": {
    "collapsed": false
   },
   "outputs": [],
   "source": [
    "#The Year Column can be dropped\n",
    "Data=Data.drop('year',axis=1)"
   ]
  },
  {
   "cell_type": "code",
   "execution_count": 5,
   "metadata": {
    "collapsed": false
   },
   "outputs": [],
   "source": [
    "#Converting the date columns to datetime types\n",
    "Data['date_entered']=pd.to_datetime(Data['date_entered'])\n",
    "Data['date_peaked']=pd.to_datetime(Data['date_peaked'])"
   ]
  },
  {
   "cell_type": "code",
   "execution_count": 6,
   "metadata": {
    "collapsed": false
   },
   "outputs": [],
   "source": [
    "#Creating a new columne that is the track length in seconds as an integer\n",
    "Data['Time_In_Seconds']='0:'+Data['time']\n",
    "Data['Time_In_Seconds']=pd.to_timedelta(Data['Time_In_Seconds'])\n",
    "Data['Time_In_Seconds']=Data['Time_In_Seconds'].dt.total_seconds()"
   ]
  },
  {
   "cell_type": "code",
   "execution_count": 7,
   "metadata": {
    "collapsed": false
   },
   "outputs": [
    {
     "data": {
      "text/html": [
       "<div>\n",
       "<table border=\"1\" class=\"dataframe\">\n",
       "  <thead>\n",
       "    <tr style=\"text-align: right;\">\n",
       "      <th></th>\n",
       "      <th>artist</th>\n",
       "      <th>track</th>\n",
       "      <th>time</th>\n",
       "      <th>genre</th>\n",
       "      <th>date_entered</th>\n",
       "      <th>date_peaked</th>\n",
       "      <th>x1st.week</th>\n",
       "      <th>x2nd.week</th>\n",
       "      <th>x3rd.week</th>\n",
       "      <th>x4th.week</th>\n",
       "      <th>...</th>\n",
       "      <th>x69th.week</th>\n",
       "      <th>x70th.week</th>\n",
       "      <th>x71st.week</th>\n",
       "      <th>x72nd.week</th>\n",
       "      <th>x73rd.week</th>\n",
       "      <th>x74th.week</th>\n",
       "      <th>x75th.week</th>\n",
       "      <th>x76th.week</th>\n",
       "      <th>Time_In_Seconds</th>\n",
       "      <th>Time_to_Peak</th>\n",
       "    </tr>\n",
       "  </thead>\n",
       "  <tbody>\n",
       "    <tr>\n",
       "      <th>0</th>\n",
       "      <td>Destiny's Child</td>\n",
       "      <td>Independent Women Part I</td>\n",
       "      <td>3:38</td>\n",
       "      <td>Rock</td>\n",
       "      <td>2000-09-23</td>\n",
       "      <td>2000-11-18</td>\n",
       "      <td>78</td>\n",
       "      <td>63.0</td>\n",
       "      <td>49.0</td>\n",
       "      <td>33.0</td>\n",
       "      <td>...</td>\n",
       "      <td>NaN</td>\n",
       "      <td>NaN</td>\n",
       "      <td>NaN</td>\n",
       "      <td>NaN</td>\n",
       "      <td>NaN</td>\n",
       "      <td>NaN</td>\n",
       "      <td>NaN</td>\n",
       "      <td>NaN</td>\n",
       "      <td>218.0</td>\n",
       "      <td>56</td>\n",
       "    </tr>\n",
       "    <tr>\n",
       "      <th>1</th>\n",
       "      <td>Santana</td>\n",
       "      <td>Maria, Maria</td>\n",
       "      <td>4:18</td>\n",
       "      <td>Rock</td>\n",
       "      <td>2000-02-12</td>\n",
       "      <td>2000-04-08</td>\n",
       "      <td>15</td>\n",
       "      <td>8.0</td>\n",
       "      <td>6.0</td>\n",
       "      <td>5.0</td>\n",
       "      <td>...</td>\n",
       "      <td>NaN</td>\n",
       "      <td>NaN</td>\n",
       "      <td>NaN</td>\n",
       "      <td>NaN</td>\n",
       "      <td>NaN</td>\n",
       "      <td>NaN</td>\n",
       "      <td>NaN</td>\n",
       "      <td>NaN</td>\n",
       "      <td>258.0</td>\n",
       "      <td>56</td>\n",
       "    </tr>\n",
       "  </tbody>\n",
       "</table>\n",
       "<p>2 rows × 84 columns</p>\n",
       "</div>"
      ],
      "text/plain": [
       "            artist                     track  time genre date_entered  \\\n",
       "0  Destiny's Child  Independent Women Part I  3:38  Rock   2000-09-23   \n",
       "1          Santana              Maria, Maria  4:18  Rock   2000-02-12   \n",
       "\n",
       "  date_peaked  x1st.week  x2nd.week  x3rd.week  x4th.week      ...       \\\n",
       "0  2000-11-18         78       63.0       49.0       33.0      ...        \n",
       "1  2000-04-08         15        8.0        6.0        5.0      ...        \n",
       "\n",
       "   x69th.week  x70th.week  x71st.week  x72nd.week  x73rd.week  x74th.week  \\\n",
       "0         NaN         NaN         NaN         NaN         NaN         NaN   \n",
       "1         NaN         NaN         NaN         NaN         NaN         NaN   \n",
       "\n",
       "   x75th.week  x76th.week  Time_In_Seconds  Time_to_Peak  \n",
       "0         NaN         NaN            218.0            56  \n",
       "1         NaN         NaN            258.0            56  \n",
       "\n",
       "[2 rows x 84 columns]"
      ]
     },
     "execution_count": 7,
     "metadata": {},
     "output_type": "execute_result"
    }
   ],
   "source": [
    "#Create a new column which is equal to the number of weeks it took for each track to peak.\n",
    "Data['Time_to_Peak']=Data['date_peaked']-Data['date_entered']\n",
    "Data['Time_to_Peak']=(Data['Time_to_Peak']/np.timedelta64(1, 'D')).astype(int)\n",
    "Data.head(2)"
   ]
  },
  {
   "cell_type": "code",
   "execution_count": 8,
   "metadata": {
    "collapsed": false
   },
   "outputs": [],
   "source": [
    "#Creating which displays the value of the highest rank each track achieved\n",
    "Data['Highest_Rank']=Data.loc[:,'x1st.week':'x76th.week'].min(numeric_only=True, axis = 1)\n",
    "Data.to_csv(\"Total_Data.csv\")"
   ]
  },
  {
   "cell_type": "code",
   "execution_count": 9,
   "metadata": {
    "collapsed": false
   },
   "outputs": [
    {
     "data": {
      "text/html": [
       "<div>\n",
       "<table border=\"1\" class=\"dataframe\">\n",
       "  <thead>\n",
       "    <tr style=\"text-align: right;\">\n",
       "      <th></th>\n",
       "      <th>Number_of_Tracks</th>\n",
       "    </tr>\n",
       "  </thead>\n",
       "  <tbody>\n",
       "    <tr>\n",
       "      <th>Jay-Z</th>\n",
       "      <td>5</td>\n",
       "    </tr>\n",
       "    <tr>\n",
       "      <th>Houston, Whitney</th>\n",
       "      <td>4</td>\n",
       "    </tr>\n",
       "  </tbody>\n",
       "</table>\n",
       "</div>"
      ],
      "text/plain": [
       "                  Number_of_Tracks\n",
       "Jay-Z                            5\n",
       "Houston, Whitney                 4"
      ]
     },
     "execution_count": 9,
     "metadata": {},
     "output_type": "execute_result"
    }
   ],
   "source": [
    "#Creating a new DataFrame of the number of tracks by each artist.\n",
    "Artist_Number_Of_Tracks=pd.DataFrame(Data['artist'].value_counts())\n",
    "Artist_Number_Of_Tracks=Artist_Number_Of_Tracks.rename(columns={'artist':'Number_of_Tracks'})\n",
    "Artist_Number_Of_Tracks.head(2)"
   ]
  },
  {
   "cell_type": "markdown",
   "metadata": {
    "focus": false,
    "id": "604ee5d7-10ed-4d14-9f86-16a6b240c00d"
   },
   "source": [
    "##### Using Pandas' built in `melt` function, pivot the weekly ranking data to be long rather than wide. As a result, you will have removed the 72 'week' columns and replace it with two: Week and Ranking. There will now be multiple entries for each song, one for each week on the Billboard rankings."
   ]
  },
  {
   "cell_type": "code",
   "execution_count": 10,
   "metadata": {
    "collapsed": true
   },
   "outputs": [],
   "source": [
    "#Renaming all of the week headers in order to output a csv file that can be used by Tableau\n",
    "#with the headers as xaxis number of weeks value.\n",
    "Week_Headers=list(Data.loc[:,'x1st.week':'x76th.week'].columns)\n",
    "Column_Name_Dict={}\n",
    "for x in range(len(Week_Headers)):\n",
    "    Column_Name_Dict[Week_Headers[x]]=x+1\n",
    "Data_With_Int_Column_Names=Data.rename(columns=Column_Name_Dict)"
   ]
  },
  {
   "cell_type": "code",
   "execution_count": 11,
   "metadata": {
    "collapsed": false
   },
   "outputs": [
    {
     "data": {
      "text/html": [
       "<div>\n",
       "<table border=\"1\" class=\"dataframe\">\n",
       "  <thead>\n",
       "    <tr style=\"text-align: right;\">\n",
       "      <th></th>\n",
       "      <th>artist</th>\n",
       "      <th>track</th>\n",
       "      <th>genre</th>\n",
       "      <th>variable</th>\n",
       "      <th>value</th>\n",
       "    </tr>\n",
       "  </thead>\n",
       "  <tbody>\n",
       "    <tr>\n",
       "      <th>317</th>\n",
       "      <td>Destiny's Child</td>\n",
       "      <td>Independent Women Part I</td>\n",
       "      <td>Rock</td>\n",
       "      <td>1</td>\n",
       "      <td>78.0</td>\n",
       "    </tr>\n",
       "    <tr>\n",
       "      <th>318</th>\n",
       "      <td>Santana</td>\n",
       "      <td>Maria, Maria</td>\n",
       "      <td>Rock</td>\n",
       "      <td>1</td>\n",
       "      <td>15.0</td>\n",
       "    </tr>\n",
       "  </tbody>\n",
       "</table>\n",
       "</div>"
      ],
      "text/plain": [
       "              artist                     track genre variable  value\n",
       "317  Destiny's Child  Independent Women Part I  Rock        1   78.0\n",
       "318          Santana              Maria, Maria  Rock        1   15.0"
      ]
     },
     "execution_count": 11,
     "metadata": {},
     "output_type": "execute_result"
    }
   ],
   "source": [
    "#Using the Data melt function to create a long list of each track, the artist and the position in the \n",
    "#chart it appeared for each week, the weeks in which a track did not appear are dropped.\n",
    "Data_Melt=pd.melt(Data_With_Int_Column_Names,id_vars=['artist','track','genre'], value_vars=range(76))\n",
    "Data_Melt_Dropped=Data_Melt.dropna()\n",
    "Data_Melt_Dropped.head(2)"
   ]
  },
  {
   "cell_type": "code",
   "execution_count": 12,
   "metadata": {
    "collapsed": false
   },
   "outputs": [
    {
     "data": {
      "text/html": [
       "<div>\n",
       "<table border=\"1\" class=\"dataframe\">\n",
       "  <thead>\n",
       "    <tr style=\"text-align: right;\">\n",
       "      <th></th>\n",
       "      <th>artist</th>\n",
       "      <th>track</th>\n",
       "      <th>genre</th>\n",
       "      <th>Week</th>\n",
       "      <th>Chart_Position</th>\n",
       "    </tr>\n",
       "  </thead>\n",
       "  <tbody>\n",
       "    <tr>\n",
       "      <th>317</th>\n",
       "      <td>Destiny's Child</td>\n",
       "      <td>Independent Women Part I</td>\n",
       "      <td>Rock</td>\n",
       "      <td>1</td>\n",
       "      <td>78.0</td>\n",
       "    </tr>\n",
       "    <tr>\n",
       "      <th>318</th>\n",
       "      <td>Santana</td>\n",
       "      <td>Maria, Maria</td>\n",
       "      <td>Rock</td>\n",
       "      <td>1</td>\n",
       "      <td>15.0</td>\n",
       "    </tr>\n",
       "  </tbody>\n",
       "</table>\n",
       "</div>"
      ],
      "text/plain": [
       "              artist                     track genre Week  Chart_Position\n",
       "317  Destiny's Child  Independent Women Part I  Rock    1            78.0\n",
       "318          Santana              Maria, Maria  Rock    1            15.0"
      ]
     },
     "execution_count": 12,
     "metadata": {},
     "output_type": "execute_result"
    }
   ],
   "source": [
    "#Renaming the headers of this new DataFrame and outputting it to csv for use with Tableau\n",
    "Data_Melt_Dropped=Data_Melt_Dropped.rename(columns={'variable':'Week','value':'Chart_Position'})\n",
    "Data_Melt_Dropped.to_csv(\"Test.csv\")\n",
    "Data_Melt_Dropped.head(2)"
   ]
  },
  {
   "cell_type": "code",
   "execution_count": 13,
   "metadata": {
    "collapsed": false
   },
   "outputs": [
    {
     "data": {
      "text/html": [
       "<div>\n",
       "<table border=\"1\" class=\"dataframe\">\n",
       "  <thead>\n",
       "    <tr style=\"text-align: right;\">\n",
       "      <th></th>\n",
       "      <th>Weeks In Chart</th>\n",
       "      <th>track</th>\n",
       "    </tr>\n",
       "  </thead>\n",
       "  <tbody>\n",
       "    <tr>\n",
       "      <th>0</th>\n",
       "      <td>34</td>\n",
       "      <td>(Hot S**t) Country Grammar</td>\n",
       "    </tr>\n",
       "    <tr>\n",
       "      <th>1</th>\n",
       "      <td>9</td>\n",
       "      <td>3 Little Words</td>\n",
       "    </tr>\n",
       "  </tbody>\n",
       "</table>\n",
       "</div>"
      ],
      "text/plain": [
       "   Weeks In Chart                       track\n",
       "0              34  (Hot S**t) Country Grammar\n",
       "1               9              3 Little Words"
      ]
     },
     "execution_count": 13,
     "metadata": {},
     "output_type": "execute_result"
    }
   ],
   "source": [
    "#Counting the number of weeks each track appeared in the charts and creating a new DataFrame with these values.\n",
    "Track_Wks_In_Chart=pd.pivot_table(Data_Melt_Dropped,index='track',values='Week',\n",
    "                                               aggfunc=np.max)\n",
    "Track_Dict={'track':list(Track_Wks_In_Chart.index),'Weeks In Chart':list(Track_Wks_In_Chart)}\n",
    "Track_Wks_In_Chart=pd.DataFrame(Track_Dict)\n",
    "Track_Wks_In_Chart.head(2)"
   ]
  },
  {
   "cell_type": "code",
   "execution_count": 14,
   "metadata": {
    "collapsed": false
   },
   "outputs": [
    {
     "data": {
      "text/html": [
       "<div>\n",
       "<table border=\"1\" class=\"dataframe\">\n",
       "  <thead>\n",
       "    <tr style=\"text-align: right;\">\n",
       "      <th></th>\n",
       "      <th>artist</th>\n",
       "      <th>track</th>\n",
       "      <th>time</th>\n",
       "      <th>genre</th>\n",
       "      <th>date_entered</th>\n",
       "      <th>date_peaked</th>\n",
       "      <th>x1st.week</th>\n",
       "      <th>x2nd.week</th>\n",
       "      <th>x3rd.week</th>\n",
       "      <th>x4th.week</th>\n",
       "      <th>...</th>\n",
       "      <th>x71st.week</th>\n",
       "      <th>x72nd.week</th>\n",
       "      <th>x73rd.week</th>\n",
       "      <th>x74th.week</th>\n",
       "      <th>x75th.week</th>\n",
       "      <th>x76th.week</th>\n",
       "      <th>Time_In_Seconds</th>\n",
       "      <th>Time_to_Peak</th>\n",
       "      <th>Highest_Rank</th>\n",
       "      <th>Weeks In Chart</th>\n",
       "    </tr>\n",
       "  </thead>\n",
       "  <tbody>\n",
       "    <tr>\n",
       "      <th>0</th>\n",
       "      <td>Destiny's Child</td>\n",
       "      <td>Independent Women Part I</td>\n",
       "      <td>3:38</td>\n",
       "      <td>Rock</td>\n",
       "      <td>2000-09-23</td>\n",
       "      <td>2000-11-18</td>\n",
       "      <td>78</td>\n",
       "      <td>63.0</td>\n",
       "      <td>49.0</td>\n",
       "      <td>33.0</td>\n",
       "      <td>...</td>\n",
       "      <td>NaN</td>\n",
       "      <td>NaN</td>\n",
       "      <td>NaN</td>\n",
       "      <td>NaN</td>\n",
       "      <td>NaN</td>\n",
       "      <td>NaN</td>\n",
       "      <td>218.0</td>\n",
       "      <td>56</td>\n",
       "      <td>1.0</td>\n",
       "      <td>28</td>\n",
       "    </tr>\n",
       "    <tr>\n",
       "      <th>1</th>\n",
       "      <td>Santana</td>\n",
       "      <td>Maria, Maria</td>\n",
       "      <td>4:18</td>\n",
       "      <td>Rock</td>\n",
       "      <td>2000-02-12</td>\n",
       "      <td>2000-04-08</td>\n",
       "      <td>15</td>\n",
       "      <td>8.0</td>\n",
       "      <td>6.0</td>\n",
       "      <td>5.0</td>\n",
       "      <td>...</td>\n",
       "      <td>NaN</td>\n",
       "      <td>NaN</td>\n",
       "      <td>NaN</td>\n",
       "      <td>NaN</td>\n",
       "      <td>NaN</td>\n",
       "      <td>NaN</td>\n",
       "      <td>258.0</td>\n",
       "      <td>56</td>\n",
       "      <td>1.0</td>\n",
       "      <td>26</td>\n",
       "    </tr>\n",
       "  </tbody>\n",
       "</table>\n",
       "<p>2 rows × 86 columns</p>\n",
       "</div>"
      ],
      "text/plain": [
       "            artist                     track  time genre date_entered  \\\n",
       "0  Destiny's Child  Independent Women Part I  3:38  Rock   2000-09-23   \n",
       "1          Santana              Maria, Maria  4:18  Rock   2000-02-12   \n",
       "\n",
       "  date_peaked  x1st.week  x2nd.week  x3rd.week  x4th.week       ...        \\\n",
       "0  2000-11-18         78       63.0       49.0       33.0       ...         \n",
       "1  2000-04-08         15        8.0        6.0        5.0       ...         \n",
       "\n",
       "   x71st.week  x72nd.week  x73rd.week  x74th.week  x75th.week  x76th.week  \\\n",
       "0         NaN         NaN         NaN         NaN         NaN         NaN   \n",
       "1         NaN         NaN         NaN         NaN         NaN         NaN   \n",
       "\n",
       "   Time_In_Seconds  Time_to_Peak  Highest_Rank  Weeks In Chart  \n",
       "0            218.0            56           1.0              28  \n",
       "1            258.0            56           1.0              26  \n",
       "\n",
       "[2 rows x 86 columns]"
      ]
     },
     "execution_count": 14,
     "metadata": {},
     "output_type": "execute_result"
    }
   ],
   "source": [
    "#Merging the DataFrame with the values generated above with the main DataFrame.\n",
    "Data=Data.merge(Track_Wks_In_Chart,on='track')\n",
    "Data.head(2)"
   ]
  },
  {
   "cell_type": "code",
   "execution_count": 15,
   "metadata": {
    "collapsed": false
   },
   "outputs": [
    {
     "data": {
      "text/html": [
       "<div>\n",
       "<table border=\"1\" class=\"dataframe\">\n",
       "  <thead>\n",
       "    <tr style=\"text-align: right;\">\n",
       "      <th></th>\n",
       "      <th>Total_weeks_in_Charts</th>\n",
       "    </tr>\n",
       "    <tr>\n",
       "      <th>artist</th>\n",
       "      <th></th>\n",
       "    </tr>\n",
       "  </thead>\n",
       "  <tbody>\n",
       "    <tr>\n",
       "      <th>2 Pac</th>\n",
       "      <td>7</td>\n",
       "    </tr>\n",
       "    <tr>\n",
       "      <th>2Ge+her</th>\n",
       "      <td>3</td>\n",
       "    </tr>\n",
       "    <tr>\n",
       "      <th>3 Doors Down</th>\n",
       "      <td>73</td>\n",
       "    </tr>\n",
       "    <tr>\n",
       "      <th>504 Boyz</th>\n",
       "      <td>18</td>\n",
       "    </tr>\n",
       "    <tr>\n",
       "      <th>98�</th>\n",
       "      <td>20</td>\n",
       "    </tr>\n",
       "  </tbody>\n",
       "</table>\n",
       "</div>"
      ],
      "text/plain": [
       "              Total_weeks_in_Charts\n",
       "artist                             \n",
       "2 Pac                             7\n",
       "2Ge+her                           3\n",
       "3 Doors Down                     73\n",
       "504 Boyz                         18\n",
       "98�                              20"
      ]
     },
     "execution_count": 15,
     "metadata": {},
     "output_type": "execute_result"
    }
   ],
   "source": [
    "#Creating a Dataframe with the artists and the total number of weeks each Artist was in the charts.\n",
    "Artist_Weeks_In_Chart=pd.pivot_table(Data_Melt_Dropped, index=['artist'],\n",
    "                                     values='Week', aggfunc='count')\n",
    "Artist_Weeks_In_Chart=pd.DataFrame(Artist_Weeks_In_Chart)\n",
    "Artist_Weeks_In_Chart=Artist_Weeks_In_Chart.rename(columns={'Week':'Total_weeks_in_Charts'})\n",
    "Artist_Weeks_In_Chart.head()"
   ]
  },
  {
   "cell_type": "code",
   "execution_count": 16,
   "metadata": {
    "collapsed": false
   },
   "outputs": [
    {
     "data": {
      "text/html": [
       "<div>\n",
       "<table border=\"1\" class=\"dataframe\">\n",
       "  <thead>\n",
       "    <tr style=\"text-align: right;\">\n",
       "      <th></th>\n",
       "      <th>Time_In_Seconds</th>\n",
       "      <th>Time_to_Peak</th>\n",
       "      <th>Number_of_Tracks</th>\n",
       "      <th>Total_weeks_in_Charts</th>\n",
       "    </tr>\n",
       "    <tr>\n",
       "      <th>artist</th>\n",
       "      <th></th>\n",
       "      <th></th>\n",
       "      <th></th>\n",
       "      <th></th>\n",
       "    </tr>\n",
       "  </thead>\n",
       "  <tbody>\n",
       "    <tr>\n",
       "      <th>2 Pac</th>\n",
       "      <td>262.0</td>\n",
       "      <td>14.0</td>\n",
       "      <td>1</td>\n",
       "      <td>7</td>\n",
       "    </tr>\n",
       "    <tr>\n",
       "      <th>2Ge+her</th>\n",
       "      <td>195.0</td>\n",
       "      <td>7.0</td>\n",
       "      <td>1</td>\n",
       "      <td>3</td>\n",
       "    </tr>\n",
       "    <tr>\n",
       "      <th>3 Doors Down</th>\n",
       "      <td>248.5</td>\n",
       "      <td>129.5</td>\n",
       "      <td>2</td>\n",
       "      <td>73</td>\n",
       "    </tr>\n",
       "    <tr>\n",
       "      <th>504 Boyz</th>\n",
       "      <td>215.0</td>\n",
       "      <td>21.0</td>\n",
       "      <td>1</td>\n",
       "      <td>18</td>\n",
       "    </tr>\n",
       "    <tr>\n",
       "      <th>98�</th>\n",
       "      <td>204.0</td>\n",
       "      <td>42.0</td>\n",
       "      <td>1</td>\n",
       "      <td>20</td>\n",
       "    </tr>\n",
       "  </tbody>\n",
       "</table>\n",
       "</div>"
      ],
      "text/plain": [
       "              Time_In_Seconds  Time_to_Peak  Number_of_Tracks  \\\n",
       "artist                                                          \n",
       "2 Pac                   262.0          14.0                 1   \n",
       "2Ge+her                 195.0           7.0                 1   \n",
       "3 Doors Down            248.5         129.5                 2   \n",
       "504 Boyz                215.0          21.0                 1   \n",
       "98�                     204.0          42.0                 1   \n",
       "\n",
       "              Total_weeks_in_Charts  \n",
       "artist                               \n",
       "2 Pac                             7  \n",
       "2Ge+her                           3  \n",
       "3 Doors Down                     73  \n",
       "504 Boyz                         18  \n",
       "98�                              20  "
      ]
     },
     "execution_count": 16,
     "metadata": {},
     "output_type": "execute_result"
    }
   ],
   "source": [
    "#Creating a DataFrame with summary data for each artist - Track Time, Time to Peak, Number of Tracks, \n",
    "#Total Weeks in Chart\n",
    "Artist_Pivot=pd.pivot_table(Data,index=['artist'],values=['Time_In_Seconds','Time_to_Peak'])\n",
    "Artist_Pivot=Artist_Pivot.join([Artist_Number_Of_Tracks,Artist_Weeks_In_Chart])\n",
    "Artist_Pivot.head()"
   ]
  },
  {
   "cell_type": "code",
   "execution_count": 17,
   "metadata": {
    "collapsed": false
   },
   "outputs": [
    {
     "data": {
      "text/html": [
       "<div>\n",
       "<table border=\"1\" class=\"dataframe\">\n",
       "  <thead>\n",
       "    <tr style=\"text-align: right;\">\n",
       "      <th></th>\n",
       "      <th>Total_Weeks_In_Chart</th>\n",
       "    </tr>\n",
       "    <tr>\n",
       "      <th>genre</th>\n",
       "      <th></th>\n",
       "    </tr>\n",
       "  </thead>\n",
       "  <tbody>\n",
       "    <tr>\n",
       "      <th>Country</th>\n",
       "      <td>1200.0</td>\n",
       "    </tr>\n",
       "    <tr>\n",
       "      <th>Electronica</th>\n",
       "      <td>72.0</td>\n",
       "    </tr>\n",
       "    <tr>\n",
       "      <th>Gospel</th>\n",
       "      <td>20.0</td>\n",
       "    </tr>\n",
       "    <tr>\n",
       "      <th>Jazz</th>\n",
       "      <td>5.0</td>\n",
       "    </tr>\n",
       "    <tr>\n",
       "      <th>Latin</th>\n",
       "      <td>173.0</td>\n",
       "    </tr>\n",
       "    <tr>\n",
       "      <th>Pop</th>\n",
       "      <td>137.0</td>\n",
       "    </tr>\n",
       "    <tr>\n",
       "      <th>R&amp;B</th>\n",
       "      <td>261.0</td>\n",
       "    </tr>\n",
       "    <tr>\n",
       "      <th>Rap</th>\n",
       "      <td>837.0</td>\n",
       "    </tr>\n",
       "    <tr>\n",
       "      <th>Reggae</th>\n",
       "      <td>15.0</td>\n",
       "    </tr>\n",
       "    <tr>\n",
       "      <th>Rock</th>\n",
       "      <td>2587.0</td>\n",
       "    </tr>\n",
       "    <tr>\n",
       "      <th>All</th>\n",
       "      <td>5307.0</td>\n",
       "    </tr>\n",
       "  </tbody>\n",
       "</table>\n",
       "</div>"
      ],
      "text/plain": [
       "             Total_Weeks_In_Chart\n",
       "genre                            \n",
       "Country                    1200.0\n",
       "Electronica                  72.0\n",
       "Gospel                       20.0\n",
       "Jazz                          5.0\n",
       "Latin                       173.0\n",
       "Pop                         137.0\n",
       "R&B                         261.0\n",
       "Rap                         837.0\n",
       "Reggae                       15.0\n",
       "Rock                       2587.0\n",
       "All                        5307.0"
      ]
     },
     "execution_count": 17,
     "metadata": {},
     "output_type": "execute_result"
    }
   ],
   "source": [
    "#Creating a Dataframe with the Genres and the total number of weeks each Genre in the charts.\n",
    "Genre_Total_Weeks_In_Chart=pd.pivot_table(Data_Melt_Dropped, index=['genre'],\n",
    "                                          values='Week', aggfunc='count',margins=True)\n",
    "Genre_Total_Weeks_In_Chart=pd.DataFrame(Genre_Total_Weeks_In_Chart)\n",
    "Genre_Total_Weeks_In_Chart=Genre_Total_Weeks_In_Chart.rename(columns={'Week':'Total_Weeks_In_Chart'})\n",
    "Genre_Total_Weeks_In_Chart"
   ]
  },
  {
   "cell_type": "code",
   "execution_count": 18,
   "metadata": {
    "collapsed": false
   },
   "outputs": [
    {
     "data": {
      "text/html": [
       "<div>\n",
       "<table border=\"1\" class=\"dataframe\">\n",
       "  <thead>\n",
       "    <tr style=\"text-align: right;\">\n",
       "      <th></th>\n",
       "      <th>Number_of_Tracks</th>\n",
       "    </tr>\n",
       "  </thead>\n",
       "  <tbody>\n",
       "    <tr>\n",
       "      <th>Rock</th>\n",
       "      <td>137</td>\n",
       "    </tr>\n",
       "    <tr>\n",
       "      <th>Country</th>\n",
       "      <td>74</td>\n",
       "    </tr>\n",
       "    <tr>\n",
       "      <th>Rap</th>\n",
       "      <td>58</td>\n",
       "    </tr>\n",
       "    <tr>\n",
       "      <th>R&amp;B</th>\n",
       "      <td>23</td>\n",
       "    </tr>\n",
       "    <tr>\n",
       "      <th>Pop</th>\n",
       "      <td>9</td>\n",
       "    </tr>\n",
       "    <tr>\n",
       "      <th>Latin</th>\n",
       "      <td>9</td>\n",
       "    </tr>\n",
       "    <tr>\n",
       "      <th>Electronica</th>\n",
       "      <td>4</td>\n",
       "    </tr>\n",
       "    <tr>\n",
       "      <th>Gospel</th>\n",
       "      <td>1</td>\n",
       "    </tr>\n",
       "    <tr>\n",
       "      <th>Jazz</th>\n",
       "      <td>1</td>\n",
       "    </tr>\n",
       "    <tr>\n",
       "      <th>Reggae</th>\n",
       "      <td>1</td>\n",
       "    </tr>\n",
       "  </tbody>\n",
       "</table>\n",
       "</div>"
      ],
      "text/plain": [
       "             Number_of_Tracks\n",
       "Rock                      137\n",
       "Country                    74\n",
       "Rap                        58\n",
       "R&B                        23\n",
       "Pop                         9\n",
       "Latin                       9\n",
       "Electronica                 4\n",
       "Gospel                      1\n",
       "Jazz                        1\n",
       "Reggae                      1"
      ]
     },
     "execution_count": 18,
     "metadata": {},
     "output_type": "execute_result"
    }
   ],
   "source": [
    "#Creating a Dataframe with the Genres and the total number of tracks for each Genre.\n",
    "Genre_Number_Of_Tracks=pd.DataFrame(Data['genre'].value_counts())\n",
    "Genre_Number_Of_Tracks=Genre_Number_Of_Tracks.rename(columns={'genre':'Number_of_Tracks'})\n",
    "Genre_Number_Of_Tracks"
   ]
  },
  {
   "cell_type": "code",
   "execution_count": 19,
   "metadata": {
    "collapsed": false
   },
   "outputs": [
    {
     "data": {
      "text/html": [
       "<div>\n",
       "<table border=\"1\" class=\"dataframe\">\n",
       "  <thead>\n",
       "    <tr style=\"text-align: right;\">\n",
       "      <th></th>\n",
       "      <th>Highest_Rank</th>\n",
       "      <th>Time_In_Seconds</th>\n",
       "      <th>Time_to_Peak</th>\n",
       "      <th>Number_of_Tracks</th>\n",
       "      <th>Total_Weeks_In_Chart</th>\n",
       "      <th>Avg_Track_Period_In_Chart</th>\n",
       "      <th>Proportion_of_Total_Tracks</th>\n",
       "    </tr>\n",
       "    <tr>\n",
       "      <th>genre</th>\n",
       "      <th></th>\n",
       "      <th></th>\n",
       "      <th></th>\n",
       "      <th></th>\n",
       "      <th></th>\n",
       "      <th></th>\n",
       "      <th></th>\n",
       "    </tr>\n",
       "  </thead>\n",
       "  <tbody>\n",
       "    <tr>\n",
       "      <th>Country</th>\n",
       "      <td>49.554054</td>\n",
       "      <td>226.689189</td>\n",
       "      <td>58.364865</td>\n",
       "      <td>74</td>\n",
       "      <td>1200.0</td>\n",
       "      <td>16.216216</td>\n",
       "      <td>0.233438</td>\n",
       "    </tr>\n",
       "    <tr>\n",
       "      <th>Electronica</th>\n",
       "      <td>49.250000</td>\n",
       "      <td>270.750000</td>\n",
       "      <td>61.250000</td>\n",
       "      <td>4</td>\n",
       "      <td>72.0</td>\n",
       "      <td>18.000000</td>\n",
       "      <td>0.012618</td>\n",
       "    </tr>\n",
       "    <tr>\n",
       "      <th>Gospel</th>\n",
       "      <td>57.000000</td>\n",
       "      <td>330.000000</td>\n",
       "      <td>56.000000</td>\n",
       "      <td>1</td>\n",
       "      <td>20.0</td>\n",
       "      <td>20.000000</td>\n",
       "      <td>0.003155</td>\n",
       "    </tr>\n",
       "    <tr>\n",
       "      <th>Jazz</th>\n",
       "      <td>7.000000</td>\n",
       "      <td>470.000000</td>\n",
       "      <td>14.000000</td>\n",
       "      <td>1</td>\n",
       "      <td>5.0</td>\n",
       "      <td>5.000000</td>\n",
       "      <td>0.003155</td>\n",
       "    </tr>\n",
       "    <tr>\n",
       "      <th>Latin</th>\n",
       "      <td>31.444444</td>\n",
       "      <td>254.444444</td>\n",
       "      <td>64.555556</td>\n",
       "      <td>9</td>\n",
       "      <td>173.0</td>\n",
       "      <td>19.222222</td>\n",
       "      <td>0.028391</td>\n",
       "    </tr>\n",
       "    <tr>\n",
       "      <th>Pop</th>\n",
       "      <td>42.111111</td>\n",
       "      <td>225.000000</td>\n",
       "      <td>47.444444</td>\n",
       "      <td>9</td>\n",
       "      <td>137.0</td>\n",
       "      <td>15.222222</td>\n",
       "      <td>0.028391</td>\n",
       "    </tr>\n",
       "    <tr>\n",
       "      <th>R&amp;B</th>\n",
       "      <td>59.304348</td>\n",
       "      <td>242.956522</td>\n",
       "      <td>28.608696</td>\n",
       "      <td>23</td>\n",
       "      <td>261.0</td>\n",
       "      <td>11.347826</td>\n",
       "      <td>0.072555</td>\n",
       "    </tr>\n",
       "    <tr>\n",
       "      <th>Rap</th>\n",
       "      <td>52.362069</td>\n",
       "      <td>243.396552</td>\n",
       "      <td>41.396552</td>\n",
       "      <td>58</td>\n",
       "      <td>837.0</td>\n",
       "      <td>14.431034</td>\n",
       "      <td>0.182965</td>\n",
       "    </tr>\n",
       "    <tr>\n",
       "      <th>Reggae</th>\n",
       "      <td>54.000000</td>\n",
       "      <td>257.000000</td>\n",
       "      <td>42.000000</td>\n",
       "      <td>1</td>\n",
       "      <td>15.0</td>\n",
       "      <td>15.000000</td>\n",
       "      <td>0.003155</td>\n",
       "    </tr>\n",
       "    <tr>\n",
       "      <th>Rock</th>\n",
       "      <td>36.072993</td>\n",
       "      <td>247.547445</td>\n",
       "      <td>57.072993</td>\n",
       "      <td>137</td>\n",
       "      <td>2587.0</td>\n",
       "      <td>18.883212</td>\n",
       "      <td>0.432177</td>\n",
       "    </tr>\n",
       "  </tbody>\n",
       "</table>\n",
       "</div>"
      ],
      "text/plain": [
       "             Highest_Rank  Time_In_Seconds  Time_to_Peak  Number_of_Tracks  \\\n",
       "genre                                                                        \n",
       "Country         49.554054       226.689189     58.364865                74   \n",
       "Electronica     49.250000       270.750000     61.250000                 4   \n",
       "Gospel          57.000000       330.000000     56.000000                 1   \n",
       "Jazz             7.000000       470.000000     14.000000                 1   \n",
       "Latin           31.444444       254.444444     64.555556                 9   \n",
       "Pop             42.111111       225.000000     47.444444                 9   \n",
       "R&B             59.304348       242.956522     28.608696                23   \n",
       "Rap             52.362069       243.396552     41.396552                58   \n",
       "Reggae          54.000000       257.000000     42.000000                 1   \n",
       "Rock            36.072993       247.547445     57.072993               137   \n",
       "\n",
       "             Total_Weeks_In_Chart  Avg_Track_Period_In_Chart  \\\n",
       "genre                                                          \n",
       "Country                    1200.0                  16.216216   \n",
       "Electronica                  72.0                  18.000000   \n",
       "Gospel                       20.0                  20.000000   \n",
       "Jazz                          5.0                   5.000000   \n",
       "Latin                       173.0                  19.222222   \n",
       "Pop                         137.0                  15.222222   \n",
       "R&B                         261.0                  11.347826   \n",
       "Rap                         837.0                  14.431034   \n",
       "Reggae                       15.0                  15.000000   \n",
       "Rock                       2587.0                  18.883212   \n",
       "\n",
       "             Proportion_of_Total_Tracks  \n",
       "genre                                    \n",
       "Country                        0.233438  \n",
       "Electronica                    0.012618  \n",
       "Gospel                         0.003155  \n",
       "Jazz                           0.003155  \n",
       "Latin                          0.028391  \n",
       "Pop                            0.028391  \n",
       "R&B                            0.072555  \n",
       "Rap                            0.182965  \n",
       "Reggae                         0.003155  \n",
       "Rock                           0.432177  "
      ]
     },
     "execution_count": 19,
     "metadata": {},
     "output_type": "execute_result"
    }
   ],
   "source": [
    "#Creating a DataFrame with summary data for each Genre -Averages of Track Time and Time to Peak, count of \n",
    "#Number of Tracks and Total Weeks in Chart. Calculate the average length of time a track from each Genre stays \n",
    "#in the Charts.\n",
    "Genre_Pivot=pd.pivot_table(Data,index=['genre'],values=['Time_In_Seconds','Time_to_Peak','Highest_Rank'])\n",
    "Genre_Pivot=Genre_Pivot.join([Genre_Number_Of_Tracks,Genre_Total_Weeks_In_Chart])\n",
    "Genre_Pivot['Avg_Track_Period_In_Chart']=Genre_Pivot['Total_Weeks_In_Chart']/Genre_Pivot['Number_of_Tracks']\n",
    "Genre_Pivot['Proportion_of_Total_Tracks']=Genre_Pivot['Number_of_Tracks']/317\n",
    "Genre_Pivot"
   ]
  },
  {
   "cell_type": "code",
   "execution_count": 20,
   "metadata": {
    "collapsed": false
   },
   "outputs": [
    {
     "data": {
      "text/html": [
       "<div>\n",
       "<table border=\"1\" class=\"dataframe\">\n",
       "  <thead>\n",
       "    <tr style=\"text-align: right;\">\n",
       "      <th></th>\n",
       "      <th>Highest_Rank</th>\n",
       "      <th>Time_In_Seconds</th>\n",
       "      <th>Time_to_Peak</th>\n",
       "      <th>Number_of_Tracks</th>\n",
       "      <th>Total_Weeks_In_Chart</th>\n",
       "      <th>Avg_Track_Period_In_Chart</th>\n",
       "      <th>Proportion_of_Total_Tracks</th>\n",
       "    </tr>\n",
       "  </thead>\n",
       "  <tbody>\n",
       "    <tr>\n",
       "      <th>count</th>\n",
       "      <td>10.000000</td>\n",
       "      <td>10.000000</td>\n",
       "      <td>10.000000</td>\n",
       "      <td>10.000000</td>\n",
       "      <td>10.000000</td>\n",
       "      <td>10.000000</td>\n",
       "      <td>10.000000</td>\n",
       "    </tr>\n",
       "    <tr>\n",
       "      <th>mean</th>\n",
       "      <td>43.809902</td>\n",
       "      <td>276.778415</td>\n",
       "      <td>47.069310</td>\n",
       "      <td>31.700000</td>\n",
       "      <td>530.700000</td>\n",
       "      <td>15.332273</td>\n",
       "      <td>0.100000</td>\n",
       "    </tr>\n",
       "    <tr>\n",
       "      <th>std</th>\n",
       "      <td>15.720628</td>\n",
       "      <td>74.084115</td>\n",
       "      <td>16.009281</td>\n",
       "      <td>45.055645</td>\n",
       "      <td>825.924808</td>\n",
       "      <td>4.484456</td>\n",
       "      <td>0.142131</td>\n",
       "    </tr>\n",
       "    <tr>\n",
       "      <th>min</th>\n",
       "      <td>7.000000</td>\n",
       "      <td>225.000000</td>\n",
       "      <td>14.000000</td>\n",
       "      <td>1.000000</td>\n",
       "      <td>5.000000</td>\n",
       "      <td>5.000000</td>\n",
       "      <td>0.003155</td>\n",
       "    </tr>\n",
       "    <tr>\n",
       "      <th>25%</th>\n",
       "      <td>37.582522</td>\n",
       "      <td>243.066529</td>\n",
       "      <td>41.547414</td>\n",
       "      <td>1.750000</td>\n",
       "      <td>33.000000</td>\n",
       "      <td>14.573276</td>\n",
       "      <td>0.005521</td>\n",
       "    </tr>\n",
       "    <tr>\n",
       "      <th>50%</th>\n",
       "      <td>49.402027</td>\n",
       "      <td>250.995945</td>\n",
       "      <td>51.722222</td>\n",
       "      <td>9.000000</td>\n",
       "      <td>155.000000</td>\n",
       "      <td>15.719219</td>\n",
       "      <td>0.028391</td>\n",
       "    </tr>\n",
       "    <tr>\n",
       "      <th>75%</th>\n",
       "      <td>53.590517</td>\n",
       "      <td>267.312500</td>\n",
       "      <td>58.041897</td>\n",
       "      <td>49.250000</td>\n",
       "      <td>693.000000</td>\n",
       "      <td>18.662409</td>\n",
       "      <td>0.155363</td>\n",
       "    </tr>\n",
       "    <tr>\n",
       "      <th>max</th>\n",
       "      <td>59.304348</td>\n",
       "      <td>470.000000</td>\n",
       "      <td>64.555556</td>\n",
       "      <td>137.000000</td>\n",
       "      <td>2587.000000</td>\n",
       "      <td>20.000000</td>\n",
       "      <td>0.432177</td>\n",
       "    </tr>\n",
       "  </tbody>\n",
       "</table>\n",
       "</div>"
      ],
      "text/plain": [
       "       Highest_Rank  Time_In_Seconds  Time_to_Peak  Number_of_Tracks  \\\n",
       "count     10.000000        10.000000     10.000000         10.000000   \n",
       "mean      43.809902       276.778415     47.069310         31.700000   \n",
       "std       15.720628        74.084115     16.009281         45.055645   \n",
       "min        7.000000       225.000000     14.000000          1.000000   \n",
       "25%       37.582522       243.066529     41.547414          1.750000   \n",
       "50%       49.402027       250.995945     51.722222          9.000000   \n",
       "75%       53.590517       267.312500     58.041897         49.250000   \n",
       "max       59.304348       470.000000     64.555556        137.000000   \n",
       "\n",
       "       Total_Weeks_In_Chart  Avg_Track_Period_In_Chart  \\\n",
       "count             10.000000                  10.000000   \n",
       "mean             530.700000                  15.332273   \n",
       "std              825.924808                   4.484456   \n",
       "min                5.000000                   5.000000   \n",
       "25%               33.000000                  14.573276   \n",
       "50%              155.000000                  15.719219   \n",
       "75%              693.000000                  18.662409   \n",
       "max             2587.000000                  20.000000   \n",
       "\n",
       "       Proportion_of_Total_Tracks  \n",
       "count                   10.000000  \n",
       "mean                     0.100000  \n",
       "std                      0.142131  \n",
       "min                      0.003155  \n",
       "25%                      0.005521  \n",
       "50%                      0.028391  \n",
       "75%                      0.155363  \n",
       "max                      0.432177  "
      ]
     },
     "execution_count": 20,
     "metadata": {},
     "output_type": "execute_result"
    }
   ],
   "source": [
    "#Display Summary Statistics for each Genre\n",
    "Genre_Pivot.describe()"
   ]
  },
  {
   "cell_type": "markdown",
   "metadata": {
    "focus": false,
    "id": "2023c5a8-1f4e-4d83-9a52-c41a5090af74"
   },
   "source": [
    "## Step 3: Visualize your data."
   ]
  },
  {
   "cell_type": "markdown",
   "metadata": {
    "focus": false,
    "id": "dfaca026-8eca-4119-b4c1-e43433790c8e"
   },
   "source": [
    "##### Using a plotting utility of your choice (Tableau or python modules or both), create visualizations that will provide context to your data. There is no minimum or maximum number of graphs you should generate, but there should be a clear and consistent story being told. Give insights to the distribution, statistics, and relationships of the data. "
   ]
  },
  {
   "cell_type": "markdown",
   "metadata": {
    "focus": false,
    "id": "8401c631-245b-4560-8971-25cb2406c2ab"
   },
   "source": [
    "## Step 4: Create a Problem Statement.\n",
    "\n",
    "##### Having explored the data, come up with a problem statement for this data set. You can feel free to introduce data from any other source to support your problem statement, just be sure to provide a link to the origin of the data. Once again- be creative!"
   ]
  },
  {
   "cell_type": "markdown",
   "metadata": {
    "collapsed": true,
    "focus": false,
    "id": "e1b81214-9b26-4735-8c1b-4482e948b355"
   },
   "source": [
    "I would like to examine what makes a sucessful track, by answering the following questions\n"
   ]
  },
  {
   "cell_type": "markdown",
   "metadata": {
    "collapsed": false,
    "focus": false,
    "id": "a0ff30a0-48be-4851-9ec3-4ce8ece08a67"
   },
   "source": [
    "## Step 5: Brainstorm your Approach.\n",
    "##### In bullet-list form, provide a proposed approach for evaluating your problem statement. This can be somewhat high-level, but start to think about ways you can massage the data for maximum efficacy. "
   ]
  },
  {
   "cell_type": "markdown",
   "metadata": {
    "collapsed": true,
    "focus": false,
    "id": "9d772c7b-61e0-4bc4-bb1a-f3d43ba54862"
   },
   "source": [
    "What Genre should I choose?.\n",
    "How long should the track be?\n",
    "What time of year should I release the track?\n",
    "Will I be more successful if I have already released a track in this calendar year?\n",
    "How long do I need to be in the charts for me to have a higher chance of getting a higher rank?"
   ]
  },
  {
   "cell_type": "code",
   "execution_count": 21,
   "metadata": {
    "collapsed": false
   },
   "outputs": [
    {
     "data": {
      "image/png": "[encoded data removed]",
      "text/plain": [
       "<matplotlib.figure.Figure at 0x10dfa2350>"
      ]
     },
     "metadata": {},
     "output_type": "display_data"
    }
   ],
   "source": [
    "#Total Number of Tracks by Genre SubPlot\n",
    "fig1=plt.figure(figsize=(8,5))\n",
    "ax3=fig1.add_subplot(111)\n",
    "sns.barplot(x=Genre_Pivot.index,y=Genre_Pivot['Number_of_Tracks'],ax=ax3)\n",
    "ax3.set_xticklabels(Genre_Pivot.index,rotation=30)\n",
    "ax3.set_xlabel('Genre')\n",
    "ax3.set_ylabel('Total Number of Tracks')\n",
    "ax3.set_title('Total Number of Tracks by Genre',fontweight='bold')\n",
    "fig1.savefig('NofTbyGen.png')"
   ]
  },
  {
   "cell_type": "code",
   "execution_count": 22,
   "metadata": {
    "collapsed": false
   },
   "outputs": [
    {
     "data": {
      "image/png": "[encoded data removed]",
      "text/plain": [
       "<matplotlib.figure.Figure at 0x1104f5890>"
      ]
     },
     "metadata": {},
     "output_type": "display_data"
    }
   ],
   "source": [
    "fig2=plt.figure(figsize=(16,5))\n",
    "\n",
    "#Average Number of Days a Track Stays in the Chart by Genre Subplot\n",
    "ax4=fig2.add_subplot(131)\n",
    "sns.barplot(x=Genre_Pivot.index,y=Genre_Pivot['Avg_Track_Period_In_Chart'],ax=ax4)\n",
    "ax4.set_xticklabels(Genre_Pivot.index,rotation=30)\n",
    "ax4.set_xlabel('Genre')\n",
    "ax4.set_ylabel('Average number of weeks')\n",
    "ax4.set_title('Number of Weeks in the Chart by Genre',fontweight='bold')\n",
    "\n",
    "#Average Number of Days for a Track to Peak - by Genre Sub Plot\n",
    "ax5=fig2.add_subplot(132)\n",
    "sns.barplot(x=Genre_Pivot.index,y=Genre_Pivot['Time_to_Peak'],ax=ax5)\n",
    "ax5.set_xticklabels(Genre_Pivot.index,rotation=30)\n",
    "ax5.set_xlabel('Genre')\n",
    "ax5.set_ylabel('Average number of days')\n",
    "ax5.set_title('Number of Days to Peak by Genre',fontweight='bold')\n",
    "fig1.savefig('Genre_Subplots.png')\n",
    "\n",
    "#Average Rank achieved by each Genre\n",
    "ax13=fig2.add_subplot(133)\n",
    "sns.barplot(x=Genre_Pivot.index,y=Genre_Pivot['Highest_Rank'],ax=ax13)\n",
    "ax13.set_xticklabels(Genre_Pivot.index,rotation=30)\n",
    "ax13.set_xlabel('Genre')\n",
    "ax13.set_ylabel('Average Rank')\n",
    "ax13.set_title('Average Rank by Genre',fontweight='bold')\n",
    "fig2.savefig('Genre_Subplots.png')"
   ]
  },
  {
   "cell_type": "code",
   "execution_count": 23,
   "metadata": {
    "collapsed": false
   },
   "outputs": [
    {
     "data": {
      "text/plain": [
       "242.42586750788644"
      ]
     },
     "execution_count": 23,
     "metadata": {},
     "output_type": "execute_result"
    },
    {
     "data": {
      "image/png": "[encoded data removed]",
      "text/plain": [
       "<matplotlib.figure.Figure at 0x10dfa2a50>"
      ]
     },
     "metadata": {},
     "output_type": "display_data"
    }
   ],
   "source": [
    "fig3=plt.figure(figsize=(8,5))\n",
    "\n",
    "#Track Length Distribution Sub Plot\n",
    "ax1=fig3.add_subplot(111)\n",
    "sns.distplot(Data['Time_In_Seconds'],ax=ax1)\n",
    "ax1.set_title('Track Length Distribution',fontweight='bold')\n",
    "ax1.set_xlabel('Time in Seconds')\n",
    "ax1.set_ylabel('Normalised Frequency')\n",
    "ax1.axvline(Data['Time_In_Seconds'].mean(), color='b', linestyle='dashed', linewidth=2)\n",
    "fig3.savefig('TrackLengthHit.png')\n",
    "Data['Time_In_Seconds'].mean()"
   ]
  },
  {
   "cell_type": "code",
   "execution_count": 24,
   "metadata": {
    "collapsed": false
   },
   "outputs": [
    {
     "data": {
      "image/png": "[encoded data removed]",
      "text/plain": [
       "<matplotlib.figure.Figure at 0x10dfa2110>"
      ]
     },
     "metadata": {},
     "output_type": "display_data"
    }
   ],
   "source": [
    "fig4=plt.figure(figsize=(8,5))\n",
    "\n",
    "#Datetime Number of Tracks Sub Plot\n",
    "ax2=fig4.add_subplot(111)\n",
    "Date_Df=pd.DataFrame(index=Data['date_entered'])\n",
    "Date_Df['Count']=1\n",
    "Date_Df.resample('M').sum().plot(ax=ax2)\n",
    "ax2.set_title('Number of Tracks Entering into the Chart by Month',fontweight='bold')\n",
    "ax2.set_xlabel('Date')\n",
    "ax2.set_ylabel('Number of Tracks')\n",
    "fig4.savefig('NTrkPerM.png')"
   ]
  },
  {
   "cell_type": "code",
   "execution_count": 25,
   "metadata": {
    "collapsed": false,
    "focus": false,
    "id": "00022458-8edc-4f84-8492-0be04397fa64"
   },
   "outputs": [
    {
     "data": {
      "image/png": "[encoded data removed]",
      "text/plain": [
       "<matplotlib.figure.Figure at 0x111e0c150>"
      ]
     },
     "metadata": {},
     "output_type": "display_data"
    }
   ],
   "source": [
    "fig5=plt.figure(figsize=(8,5))\n",
    "slope, intercept, r_value, p_value, std_err = stats.linregress(Data['Weeks In Chart'],Data['Time_to_Peak'])\n",
    "ax7=fig5.add_subplot(111)\n",
    "ax7=sns.regplot(Data['Weeks In Chart'],Data['Time_to_Peak'])\n",
    "ax7.set_ylabel('Time to Peak (Days)')\n",
    "ax7.set_title('Time to Peak vs Weeks in Chart',fontweight='bold')\n",
    "s='$r^2$= '+str(round(r_value**2,3))\n",
    "s2='y=%sx%s'%(round(slope,3),round(intercept,3))\n",
    "ax7.text(40,300,s,fontweight='bold')\n",
    "ax7.text(40,250,s2,fontweight='bold')\n",
    "fig5.savefig('TtoPkvsWkCht.png')"
   ]
  },
  {
   "cell_type": "code",
   "execution_count": 26,
   "metadata": {
    "collapsed": false
   },
   "outputs": [
    {
     "data": {
      "text/html": [
       "<div>\n",
       "<table border=\"1\" class=\"dataframe\">\n",
       "  <thead>\n",
       "    <tr style=\"text-align: right;\">\n",
       "      <th></th>\n",
       "      <th>artist</th>\n",
       "      <th>track</th>\n",
       "      <th>time</th>\n",
       "      <th>genre</th>\n",
       "      <th>date_entered</th>\n",
       "      <th>date_peaked</th>\n",
       "      <th>x1st.week</th>\n",
       "      <th>x2nd.week</th>\n",
       "      <th>x3rd.week</th>\n",
       "      <th>x4th.week</th>\n",
       "      <th>...</th>\n",
       "      <th>x71st.week</th>\n",
       "      <th>x72nd.week</th>\n",
       "      <th>x73rd.week</th>\n",
       "      <th>x74th.week</th>\n",
       "      <th>x75th.week</th>\n",
       "      <th>x76th.week</th>\n",
       "      <th>Time_In_Seconds</th>\n",
       "      <th>Time_to_Peak</th>\n",
       "      <th>Highest_Rank</th>\n",
       "      <th>Weeks In Chart</th>\n",
       "    </tr>\n",
       "  </thead>\n",
       "  <tbody>\n",
       "    <tr>\n",
       "      <th>9</th>\n",
       "      <td>Lonestar</td>\n",
       "      <td>Amazed</td>\n",
       "      <td>4:25</td>\n",
       "      <td>Country</td>\n",
       "      <td>1999-06-05</td>\n",
       "      <td>2000-03-04</td>\n",
       "      <td>81</td>\n",
       "      <td>54.0</td>\n",
       "      <td>44.0</td>\n",
       "      <td>39.0</td>\n",
       "      <td>...</td>\n",
       "      <td>NaN</td>\n",
       "      <td>NaN</td>\n",
       "      <td>NaN</td>\n",
       "      <td>NaN</td>\n",
       "      <td>NaN</td>\n",
       "      <td>NaN</td>\n",
       "      <td>265.0</td>\n",
       "      <td>273</td>\n",
       "      <td>1.0</td>\n",
       "      <td>64</td>\n",
       "    </tr>\n",
       "    <tr>\n",
       "      <th>158</th>\n",
       "      <td>Amber</td>\n",
       "      <td>Sexual (Li Da Di)</td>\n",
       "      <td>4:38</td>\n",
       "      <td>Rock</td>\n",
       "      <td>1999-07-17</td>\n",
       "      <td>2000-02-12</td>\n",
       "      <td>99</td>\n",
       "      <td>99.0</td>\n",
       "      <td>96.0</td>\n",
       "      <td>96.0</td>\n",
       "      <td>...</td>\n",
       "      <td>NaN</td>\n",
       "      <td>NaN</td>\n",
       "      <td>NaN</td>\n",
       "      <td>NaN</td>\n",
       "      <td>NaN</td>\n",
       "      <td>NaN</td>\n",
       "      <td>278.0</td>\n",
       "      <td>210</td>\n",
       "      <td>42.0</td>\n",
       "      <td>33</td>\n",
       "    </tr>\n",
       "    <tr>\n",
       "      <th>27</th>\n",
       "      <td>Houston, Whitney</td>\n",
       "      <td>My Love Is Your Love</td>\n",
       "      <td>4:16</td>\n",
       "      <td>Rock</td>\n",
       "      <td>1999-09-04</td>\n",
       "      <td>2000-01-08</td>\n",
       "      <td>81</td>\n",
       "      <td>68.0</td>\n",
       "      <td>44.0</td>\n",
       "      <td>16.0</td>\n",
       "      <td>...</td>\n",
       "      <td>NaN</td>\n",
       "      <td>NaN</td>\n",
       "      <td>NaN</td>\n",
       "      <td>NaN</td>\n",
       "      <td>NaN</td>\n",
       "      <td>NaN</td>\n",
       "      <td>256.0</td>\n",
       "      <td>126</td>\n",
       "      <td>4.0</td>\n",
       "      <td>28</td>\n",
       "    </tr>\n",
       "    <tr>\n",
       "      <th>46</th>\n",
       "      <td>Creed</td>\n",
       "      <td>Higher</td>\n",
       "      <td>5:16</td>\n",
       "      <td>Rock</td>\n",
       "      <td>1999-09-11</td>\n",
       "      <td>2000-07-22</td>\n",
       "      <td>81</td>\n",
       "      <td>77.0</td>\n",
       "      <td>73.0</td>\n",
       "      <td>63.0</td>\n",
       "      <td>...</td>\n",
       "      <td>NaN</td>\n",
       "      <td>NaN</td>\n",
       "      <td>NaN</td>\n",
       "      <td>NaN</td>\n",
       "      <td>NaN</td>\n",
       "      <td>NaN</td>\n",
       "      <td>316.0</td>\n",
       "      <td>315</td>\n",
       "      <td>7.0</td>\n",
       "      <td>65</td>\n",
       "    </tr>\n",
       "    <tr>\n",
       "      <th>78</th>\n",
       "      <td>Train</td>\n",
       "      <td>Meet Virginia</td>\n",
       "      <td>3:55</td>\n",
       "      <td>Rock</td>\n",
       "      <td>1999-10-09</td>\n",
       "      <td>2000-01-22</td>\n",
       "      <td>76</td>\n",
       "      <td>67.0</td>\n",
       "      <td>59.0</td>\n",
       "      <td>54.0</td>\n",
       "      <td>...</td>\n",
       "      <td>NaN</td>\n",
       "      <td>NaN</td>\n",
       "      <td>NaN</td>\n",
       "      <td>NaN</td>\n",
       "      <td>NaN</td>\n",
       "      <td>NaN</td>\n",
       "      <td>235.0</td>\n",
       "      <td>105</td>\n",
       "      <td>20.0</td>\n",
       "      <td>27</td>\n",
       "    </tr>\n",
       "  </tbody>\n",
       "</table>\n",
       "<p>5 rows × 86 columns</p>\n",
       "</div>"
      ],
      "text/plain": [
       "               artist                 track  time    genre date_entered  \\\n",
       "9            Lonestar                Amazed  4:25  Country   1999-06-05   \n",
       "158             Amber     Sexual (Li Da Di)  4:38     Rock   1999-07-17   \n",
       "27   Houston, Whitney  My Love Is Your Love  4:16     Rock   1999-09-04   \n",
       "46              Creed                Higher  5:16     Rock   1999-09-11   \n",
       "78              Train         Meet Virginia  3:55     Rock   1999-10-09   \n",
       "\n",
       "    date_peaked  x1st.week  x2nd.week  x3rd.week  x4th.week       ...        \\\n",
       "9    2000-03-04         81       54.0       44.0       39.0       ...         \n",
       "158  2000-02-12         99       99.0       96.0       96.0       ...         \n",
       "27   2000-01-08         81       68.0       44.0       16.0       ...         \n",
       "46   2000-07-22         81       77.0       73.0       63.0       ...         \n",
       "78   2000-01-22         76       67.0       59.0       54.0       ...         \n",
       "\n",
       "     x71st.week  x72nd.week  x73rd.week  x74th.week  x75th.week  x76th.week  \\\n",
       "9           NaN         NaN         NaN         NaN         NaN         NaN   \n",
       "158         NaN         NaN         NaN         NaN         NaN         NaN   \n",
       "27          NaN         NaN         NaN         NaN         NaN         NaN   \n",
       "46          NaN         NaN         NaN         NaN         NaN         NaN   \n",
       "78          NaN         NaN         NaN         NaN         NaN         NaN   \n",
       "\n",
       "     Time_In_Seconds  Time_to_Peak  Highest_Rank  Weeks In Chart  \n",
       "9              265.0           273           1.0              64  \n",
       "158            278.0           210          42.0              33  \n",
       "27             256.0           126           4.0              28  \n",
       "46             316.0           315           7.0              65  \n",
       "78             235.0           105          20.0              27  \n",
       "\n",
       "[5 rows x 86 columns]"
      ]
     },
     "execution_count": 26,
     "metadata": {},
     "output_type": "execute_result"
    }
   ],
   "source": [
    "#A sorted Dataframe, based on the date entered is created to find out which tracks were the artists 1st,2nd\n",
    "# 3rd ..etc. of the year.\n",
    "Sorted_Data=Data.sort_values(by='date_entered')\n",
    "Sorted_Data.head()"
   ]
  },
  {
   "cell_type": "code",
   "execution_count": 27,
   "metadata": {
    "collapsed": false
   },
   "outputs": [],
   "source": [
    "#A function is created and applied to each row. the function checks to see if that artist has already released a track\n",
    "#in this period, if so the function returns what number of track the current row is and increases the counter.\n",
    "Artist_Dict={}\n",
    "def In_Chart(Artist):\n",
    "    if Artist in Artist_Dict.keys():\n",
    "        Artist_Dict[Artist]+=1\n",
    "    else:\n",
    "        Artist_Dict[Artist]=1\n",
    "    return Artist_Dict[Artist]\n",
    "Sorted_Data['Appearance_in_Chart']=Sorted_Data.apply(lambda x: In_Chart(x['artist']),axis=1)"
   ]
  },
  {
   "cell_type": "code",
   "execution_count": 28,
   "metadata": {
    "collapsed": false
   },
   "outputs": [
    {
     "data": {
      "text/html": [
       "<div>\n",
       "<table border=\"1\" class=\"dataframe\">\n",
       "  <thead>\n",
       "    <tr style=\"text-align: right;\">\n",
       "      <th></th>\n",
       "      <th></th>\n",
       "      <th>len</th>\n",
       "      <th>mean</th>\n",
       "    </tr>\n",
       "    <tr>\n",
       "      <th>genre</th>\n",
       "      <th>Appearance_in_Chart</th>\n",
       "      <th></th>\n",
       "      <th></th>\n",
       "    </tr>\n",
       "  </thead>\n",
       "  <tbody>\n",
       "    <tr>\n",
       "      <th rowspan=\"4\" valign=\"top\">Country</th>\n",
       "      <th>1</th>\n",
       "      <td>50</td>\n",
       "      <td>58.940000</td>\n",
       "    </tr>\n",
       "    <tr>\n",
       "      <th>2</th>\n",
       "      <td>17</td>\n",
       "      <td>59.294118</td>\n",
       "    </tr>\n",
       "    <tr>\n",
       "      <th>3</th>\n",
       "      <td>6</td>\n",
       "      <td>47.833333</td>\n",
       "    </tr>\n",
       "    <tr>\n",
       "      <th>4</th>\n",
       "      <td>1</td>\n",
       "      <td>77.000000</td>\n",
       "    </tr>\n",
       "    <tr>\n",
       "      <th>Electronica</th>\n",
       "      <th>1</th>\n",
       "      <td>4</td>\n",
       "      <td>61.250000</td>\n",
       "    </tr>\n",
       "    <tr>\n",
       "      <th>Gospel</th>\n",
       "      <th>1</th>\n",
       "      <td>1</td>\n",
       "      <td>56.000000</td>\n",
       "    </tr>\n",
       "    <tr>\n",
       "      <th>Jazz</th>\n",
       "      <th>1</th>\n",
       "      <td>1</td>\n",
       "      <td>14.000000</td>\n",
       "    </tr>\n",
       "    <tr>\n",
       "      <th rowspan=\"3\" valign=\"top\">Latin</th>\n",
       "      <th>1</th>\n",
       "      <td>5</td>\n",
       "      <td>82.600000</td>\n",
       "    </tr>\n",
       "    <tr>\n",
       "      <th>2</th>\n",
       "      <td>3</td>\n",
       "      <td>37.333333</td>\n",
       "    </tr>\n",
       "    <tr>\n",
       "      <th>3</th>\n",
       "      <td>1</td>\n",
       "      <td>56.000000</td>\n",
       "    </tr>\n",
       "    <tr>\n",
       "      <th rowspan=\"2\" valign=\"top\">Pop</th>\n",
       "      <th>1</th>\n",
       "      <td>7</td>\n",
       "      <td>47.000000</td>\n",
       "    </tr>\n",
       "    <tr>\n",
       "      <th>2</th>\n",
       "      <td>2</td>\n",
       "      <td>49.000000</td>\n",
       "    </tr>\n",
       "    <tr>\n",
       "      <th rowspan=\"2\" valign=\"top\">R&amp;B</th>\n",
       "      <th>1</th>\n",
       "      <td>21</td>\n",
       "      <td>29.666667</td>\n",
       "    </tr>\n",
       "    <tr>\n",
       "      <th>2</th>\n",
       "      <td>2</td>\n",
       "      <td>17.500000</td>\n",
       "    </tr>\n",
       "    <tr>\n",
       "      <th rowspan=\"5\" valign=\"top\">Rap</th>\n",
       "      <th>1</th>\n",
       "      <td>44</td>\n",
       "      <td>40.250000</td>\n",
       "    </tr>\n",
       "    <tr>\n",
       "      <th>2</th>\n",
       "      <td>9</td>\n",
       "      <td>35.777778</td>\n",
       "    </tr>\n",
       "    <tr>\n",
       "      <th>3</th>\n",
       "      <td>3</td>\n",
       "      <td>63.000000</td>\n",
       "    </tr>\n",
       "    <tr>\n",
       "      <th>4</th>\n",
       "      <td>1</td>\n",
       "      <td>56.000000</td>\n",
       "    </tr>\n",
       "    <tr>\n",
       "      <th>5</th>\n",
       "      <td>1</td>\n",
       "      <td>63.000000</td>\n",
       "    </tr>\n",
       "    <tr>\n",
       "      <th>Reggae</th>\n",
       "      <th>1</th>\n",
       "      <td>1</td>\n",
       "      <td>42.000000</td>\n",
       "    </tr>\n",
       "    <tr>\n",
       "      <th rowspan=\"4\" valign=\"top\">Rock</th>\n",
       "      <th>1</th>\n",
       "      <td>94</td>\n",
       "      <td>59.797872</td>\n",
       "    </tr>\n",
       "    <tr>\n",
       "      <th>2</th>\n",
       "      <td>31</td>\n",
       "      <td>53.967742</td>\n",
       "    </tr>\n",
       "    <tr>\n",
       "      <th>3</th>\n",
       "      <td>11</td>\n",
       "      <td>43.272727</td>\n",
       "    </tr>\n",
       "    <tr>\n",
       "      <th>4</th>\n",
       "      <td>1</td>\n",
       "      <td>49.000000</td>\n",
       "    </tr>\n",
       "  </tbody>\n",
       "</table>\n",
       "</div>"
      ],
      "text/plain": [
       "                                 len       mean\n",
       "genre       Appearance_in_Chart                \n",
       "Country     1                     50  58.940000\n",
       "            2                     17  59.294118\n",
       "            3                      6  47.833333\n",
       "            4                      1  77.000000\n",
       "Electronica 1                      4  61.250000\n",
       "Gospel      1                      1  56.000000\n",
       "Jazz        1                      1  14.000000\n",
       "Latin       1                      5  82.600000\n",
       "            2                      3  37.333333\n",
       "            3                      1  56.000000\n",
       "Pop         1                      7  47.000000\n",
       "            2                      2  49.000000\n",
       "R&B         1                     21  29.666667\n",
       "            2                      2  17.500000\n",
       "Rap         1                     44  40.250000\n",
       "            2                      9  35.777778\n",
       "            3                      3  63.000000\n",
       "            4                      1  56.000000\n",
       "            5                      1  63.000000\n",
       "Reggae      1                      1  42.000000\n",
       "Rock        1                     94  59.797872\n",
       "            2                     31  53.967742\n",
       "            3                     11  43.272727\n",
       "            4                      1  49.000000"
      ]
     },
     "execution_count": 28,
     "metadata": {},
     "output_type": "execute_result"
    }
   ],
   "source": [
    "#A pivot table is created to find the mean number of days it takes for each genre to peak, this is calculated for \n",
    "#the 1st - 5th track for each artist where applicable.\n",
    "Time_to_Pk_Df=pd.pivot_table(Sorted_Data,index=['genre','Appearance_in_Chart'],\n",
    "                             values='Time_to_Peak',aggfunc=[len,np.mean])\n",
    "#Seperate DataFrames are created for each genre for ease of plotting.\n",
    "Country=pd.DataFrame(Time_to_Pk_Df['mean']['Country']).rename(columns={'mean':'Country'})\n",
    "Rock=pd.DataFrame(Time_to_Pk_Df['mean']['Rock']).rename(columns={'mean':'Rock'})\n",
    "Rap=pd.DataFrame(Time_to_Pk_Df['mean']['Rap']).rename(columns={'mean':'Rap'})\n",
    "Latin=pd.DataFrame(Time_to_Pk_Df['mean']['Latin']).rename(columns={'mean':'Latin'})\n",
    "Time_to_Pk_Df"
   ]
  },
  {
   "cell_type": "code",
   "execution_count": 29,
   "metadata": {
    "collapsed": false
   },
   "outputs": [
    {
     "data": {
      "text/html": [
       "<div>\n",
       "<table border=\"1\" class=\"dataframe\">\n",
       "  <thead>\n",
       "    <tr style=\"text-align: right;\">\n",
       "      <th></th>\n",
       "      <th>Average</th>\n",
       "    </tr>\n",
       "    <tr>\n",
       "      <th>Appearance_in_Chart</th>\n",
       "      <th></th>\n",
       "    </tr>\n",
       "  </thead>\n",
       "  <tbody>\n",
       "    <tr>\n",
       "      <th>1</th>\n",
       "      <td>52.899123</td>\n",
       "    </tr>\n",
       "    <tr>\n",
       "      <th>2</th>\n",
       "      <td>50.750000</td>\n",
       "    </tr>\n",
       "    <tr>\n",
       "      <th>3</th>\n",
       "      <td>48.000000</td>\n",
       "    </tr>\n",
       "    <tr>\n",
       "      <th>4</th>\n",
       "      <td>60.666667</td>\n",
       "    </tr>\n",
       "    <tr>\n",
       "      <th>5</th>\n",
       "      <td>63.000000</td>\n",
       "    </tr>\n",
       "  </tbody>\n",
       "</table>\n",
       "</div>"
      ],
      "text/plain": [
       "                       Average\n",
       "Appearance_in_Chart           \n",
       "1                    52.899123\n",
       "2                    50.750000\n",
       "3                    48.000000\n",
       "4                    60.666667\n",
       "5                    63.000000"
      ]
     },
     "execution_count": 29,
     "metadata": {},
     "output_type": "execute_result"
    }
   ],
   "source": [
    "#An average is also calculated across all the genres.\n",
    "Time_to_Pk_Avg_Df=pd.pivot_table(Sorted_Data,index=['Appearance_in_Chart'],\n",
    "                             values='Time_to_Peak')\n",
    "Time_to_Pk_Avg_Df=pd.DataFrame(Time_to_Pk_Avg_Df).rename(columns={'Time_to_Peak':'Average'})\n",
    "Time_to_Pk_Avg_Df"
   ]
  },
  {
   "cell_type": "code",
   "execution_count": 30,
   "metadata": {
    "collapsed": false
   },
   "outputs": [],
   "source": [
    "#Copy of the above code but for Highest Rank data\n",
    "HR_Df=pd.pivot_table(Sorted_Data,index=['genre','Appearance_in_Chart'],\n",
    "                             values='Highest_Rank',aggfunc=[len,np.mean])\n",
    "#Seperate DataFrames are created for each genre for ease of plotting.\n",
    "CountryHR=pd.DataFrame(HR_Df['mean']['Country']).rename(columns={'mean':'Country'})\n",
    "RockHR=pd.DataFrame(HR_Df['mean']['Rock']).rename(columns={'mean':'Rock'})\n",
    "RapHR=pd.DataFrame(HR_Df['mean']['Rap']).rename(columns={'mean':'Rap'})\n",
    "LatinHR=pd.DataFrame(HR_Df['mean']['Latin']).rename(columns={'mean':'Latin'})\n",
    "#An average is also calculated across all the genres.\n",
    "HR_Avg_Df=pd.pivot_table(Sorted_Data,index=['Appearance_in_Chart'],\n",
    "                             values='Highest_Rank')\n",
    "HR_Avg_Df=pd.DataFrame(HR_Avg_Df).rename(columns={'Highest_Rank':'Average'})"
   ]
  },
  {
   "cell_type": "code",
   "execution_count": 31,
   "metadata": {
    "collapsed": false
   },
   "outputs": [
    {
     "data": {
      "image/png": "[encoded data removed]",
      "text/plain": [
       "<matplotlib.figure.Figure at 0x1106113d0>"
      ]
     },
     "metadata": {},
     "output_type": "display_data"
    }
   ],
   "source": [
    "#Average time to peak for each of the Genres and the average are plotted on the same plot below.\n",
    "fig6=plt.figure(figsize=(16,7))\n",
    "ax8=fig6.add_subplot(121)\n",
    "Country.plot(label=Country,ax=ax8)\n",
    "ax9=Rap.plot(ax=ax8)\n",
    "ax10=Latin.plot(ax=ax9)\n",
    "ax11=Rock.plot(ax=ax10)\n",
    "ax12=Time_to_Pk_Avg_Df.plot(xticks=range(1,6),ax=ax11,)\n",
    "ax12.lines[-1].set_linewidth(4)\n",
    "ax12.set_ylabel('Time to Peak (Weeks)')\n",
    "ax12.set_xlabel('Number of Appearances in Chart')\n",
    "fig6.savefig('AppChrt.png')\n",
    "ax12.set_title('Average Time to Peak (Weeks) vs Apperance Number')\n",
    "\n",
    "#Average Highest rank for each of the Genres and the average are plotted on the same plot below.\n",
    "ax14=fig6.add_subplot(122)\n",
    "CountryHR.plot(label=Country,ax=ax14)\n",
    "ax15=RapHR.plot(ax=ax14)\n",
    "ax16=LatinHR.plot(ax=ax15)\n",
    "ax17=RockHR.plot(ax=ax16)\n",
    "ax18=HR_Avg_Df.plot(xticks=range(1,6),ax=ax17,)\n",
    "ax18.lines[-1].set_linewidth(4)\n",
    "ax18.set_ylabel('Average Highest Rank')\n",
    "ax18.set_xlabel('Number of Appearances in Chart')\n",
    "ax18.set_title('Average Highest Rank vs Apperance Number')\n",
    "fig6.savefig('AppChrt.png')\n"
   ]
  },
  {
   "cell_type": "markdown",
   "metadata": {},
   "source": [
    "<img src=\"Rank_by_Week.png\">"
   ]
  },
  {
   "cell_type": "markdown",
   "metadata": {
    "focus": false,
    "id": "aee61cbf-dfe9-40d3-bfef-772a60bed757"
   },
   "source": []
  },
  {
   "cell_type": "code",
   "execution_count": null,
   "metadata": {
    "collapsed": true
   },
   "outputs": [],
   "source": []
  }
 ],
 "metadata": {
  "anaconda-cloud": {},
  "kernelspec": {
   "display_name": "Python [default]",
   "language": "python",
   "name": "python2"
  },
  "language_info": {
   "codemirror_mode": {
    "name": "ipython",
    "version": 2
   },
   "file_extension": ".py",
   "mimetype": "text/x-python",
   "name": "python",
   "nbconvert_exporter": "python",
   "pygments_lexer": "ipython2",
   "version": "2.7.12"
  }
 },
 "nbformat": 4,
 "nbformat_minor": 0
}
